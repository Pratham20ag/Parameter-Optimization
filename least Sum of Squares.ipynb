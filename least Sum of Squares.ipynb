{
 "cells": [
  {
   "cell_type": "markdown",
   "metadata": {},
   "source": [
    "<div align = 'center'>\n",
    "<h1> Least Sum of Square </h1>\n",
    "</div>"
   ]
  },
  {
   "cell_type": "markdown",
   "metadata": {},
   "source": [
    "Importing Necessary Libraries"
   ]
  },
  {
   "cell_type": "code",
   "execution_count": 2,
   "metadata": {},
   "outputs": [],
   "source": [
    "import numpy as np\n",
    "import pandas as pd\n",
    "import random as r"
   ]
  },
  {
   "cell_type": "markdown",
   "metadata": {},
   "source": [
    "Initilaizing Target Class Values and Rows of Data"
   ]
  },
  {
   "cell_type": "code",
   "execution_count": 3,
   "metadata": {},
   "outputs": [],
   "source": [
    "targets = [30,50,80,90]\n",
    "features = [\n",
    "[3,5,7,9,10],\n",
    "[1,7,5,10,15],\n",
    "[-15,15,10,5,10],\n",
    "[20,0,2,3,7]\n",
    "]"
   ]
  },
  {
   "cell_type": "markdown",
   "metadata": {},
   "source": [
    "Making Fitness Function that uses the Least Sum of Squares Formula. To calculate how good is the weight."
   ]
  },
  {
   "cell_type": "code",
   "execution_count": 4,
   "metadata": {},
   "outputs": [],
   "source": [
    "def fitnessfunc(targets,features,iterations):\n",
    "    bestfitness = 99999\n",
    "    weights = []\n",
    "    fitness = 0\n",
    "    for i in range(iterations):\n",
    "        weights = [r.uniform(-1,1) for i in range(5)]\n",
    "        for target,feature in zip(targets,features):\n",
    "            weighted_sum = sum([a*b for a,b in zip(weights,feature)])\n",
    "            fitness += abs(target - weighted_sum)\n",
    "        if (fitness<bestfitness):\n",
    "            bestweights = weights\n",
    "            bestfitness = fitness\n",
    "    return bestweights,bestfitness"
   ]
  },
  {
   "cell_type": "markdown",
   "metadata": {},
   "source": [
    "Calling the Fitness Function"
   ]
  },
  {
   "cell_type": "code",
   "execution_count": 11,
   "metadata": {},
   "outputs": [
    {
     "name": "stdout",
     "output_type": "stream",
     "text": [
      "The best Weights for the above given data for a linear model are : \n",
      "[0.024370467449113864, -0.4270308416806985, -0.03923034716909224, -0.3516530537672291, -0.8939688014471547] \n",
      "\n",
      "with error of \n",
      "3.0% \n"
     ]
    }
   ],
   "source": [
    "iterations = 100\n",
    "bestweights = []\n",
    "bestweights,error  = fitnessfunc(targets,features,iterations)\n",
    "\n",
    "print(f\"The best Weights for the above given data for a linear model are : \\n{bestweights} \\n\\nwith error of \\n{error//100} % \")\n",
    "\n"
   ]
  }
 ],
 "metadata": {
  "kernelspec": {
   "display_name": "Python 3",
   "language": "python",
   "name": "python3"
  },
  "language_info": {
   "codemirror_mode": {
    "name": "ipython",
    "version": 3
   },
   "file_extension": ".py",
   "mimetype": "text/x-python",
   "name": "python",
   "nbconvert_exporter": "python",
   "pygments_lexer": "ipython3",
   "version": "3.10.10"
  }
 },
 "nbformat": 4,
 "nbformat_minor": 2
}
